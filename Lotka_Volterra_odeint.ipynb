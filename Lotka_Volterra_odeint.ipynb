{
  "nbformat": 4,
  "nbformat_minor": 0,
  "metadata": {
    "colab": {
      "private_outputs": true,
      "provenance": [],
      "authorship_tag": "ABX9TyMvhbesuGlqZ8ZlhWDuSeDv",
      "include_colab_link": true
    },
    "kernelspec": {
      "name": "python3",
      "display_name": "Python 3"
    },
    "language_info": {
      "name": "python"
    }
  },
  "cells": [
    {
      "cell_type": "markdown",
      "metadata": {
        "id": "view-in-github",
        "colab_type": "text"
      },
      "source": [
        "<a href=\"https://colab.research.google.com/github/tayfununal/solving_hamiltonian_with_deeplearning/blob/main/Lotka_Volterra_odeint.ipynb\" target=\"_parent\"><img src=\"https://colab.research.google.com/assets/colab-badge.svg\" alt=\"Open In Colab\"/></a>"
      ]
    },
    {
      "cell_type": "code",
      "source": [
        "tf.random.set_seed(12345)\n",
        "np.random.seed(12345)\n",
        "random.seed(12345)"
      ],
      "metadata": {
        "id": "urYq9ImrkTBb"
      },
      "execution_count": null,
      "outputs": []
    },
    {
      "cell_type": "code",
      "execution_count": null,
      "metadata": {
        "id": "KM76po7SnQ1m"
      },
      "outputs": [],
      "source": [
        "def lotka_volterra_odeint(alpha, beta, delta, gamma, x0, y0, t_interval, h):\n",
        "\n",
        "    def derivative(X, t, alpha, beta, delta, gamma):\n",
        "        x, y = X\n",
        "        dotx = x * (alpha - beta * y)\n",
        "        doty = y * (delta * x - gamma)\n",
        "        return np.array([dotx, doty])\n",
        "\n",
        "    t = np.linspace(t_interval[0], t_interval[1], h)\n",
        "    X0 = [x0, y0]\n",
        "    res = integrate.odeint(derivative, X0, t, args = (alpha, beta, delta, gamma))\n",
        "    x, y = res.T\n",
        "    return x, y"
      ]
    }
  ]
}