{
  "nbformat": 4,
  "nbformat_minor": 0,
  "metadata": {
    "colab": {
      "private_outputs": true,
      "provenance": [],
      "authorship_tag": "ABX9TyOuQBkrjpxHUCHNNqscfqyO",
      "include_colab_link": true
    },
    "kernelspec": {
      "name": "python3",
      "display_name": "Python 3"
    },
    "language_info": {
      "name": "python"
    }
  },
  "cells": [
    {
      "cell_type": "markdown",
      "metadata": {
        "id": "view-in-github",
        "colab_type": "text"
      },
      "source": [
        "<a href=\"https://colab.research.google.com/github/tayfununal/solving_hamiltonian_with_deeplearning/blob/main/non_linear_oscillator_odeint.ipynb\" target=\"_parent\"><img src=\"https://colab.research.google.com/assets/colab-badge.svg\" alt=\"Open In Colab\"/></a>"
      ]
    },
    {
      "cell_type": "code",
      "source": [
        "tf.random.set_seed(12345)\n",
        "np.random.seed(12345)\n",
        "random.seed(12345)"
      ],
      "metadata": {
        "id": "1m-RLpnzjhC4"
      },
      "execution_count": null,
      "outputs": []
    },
    {
      "cell_type": "code",
      "execution_count": null,
      "metadata": {
        "id": "AdRfK3OCnp_W"
      },
      "outputs": [],
      "source": [
        "def non_os_odeint(initial_point, t):\n",
        "\n",
        "    def derivative(X, t):\n",
        "        q ,p = X\n",
        "        dq = p\n",
        "        dp = -(q + q**3)\n",
        "        return np.array([dq, dp])\n",
        "        \n",
        "    res = integrate.odeint(derivative, initial_point, t)\n",
        "    return res"
      ]
    }
  ]
}