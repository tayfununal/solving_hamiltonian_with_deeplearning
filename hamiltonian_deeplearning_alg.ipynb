{
  "nbformat": 4,
  "nbformat_minor": 0,
  "metadata": {
    "colab": {
      "private_outputs": true,
      "provenance": [],
      "authorship_tag": "ABX9TyP59f4pY1klMe1lB56Zg9dX",
      "include_colab_link": true
    },
    "kernelspec": {
      "name": "python3",
      "display_name": "Python 3"
    },
    "language_info": {
      "name": "python"
    }
  },
  "cells": [
    {
      "cell_type": "markdown",
      "metadata": {
        "id": "view-in-github",
        "colab_type": "text"
      },
      "source": [
        "<a href=\"https://colab.research.google.com/github/tayfununal/solving_hamiltonian_with_deeplearning/blob/main/hamiltonian_deeplearning_alg.ipynb\" target=\"_parent\"><img src=\"https://colab.research.google.com/assets/colab-badge.svg\" alt=\"Open In Colab\"/></a>"
      ]
    },
    {
      "cell_type": "code",
      "source": [
        "tf.random.set_seed(12345)\n",
        "np.random.seed(12345)\n",
        "random.seed(12345)"
      ],
      "metadata": {
        "id": "J733swfM7x5f"
      },
      "execution_count": null,
      "outputs": []
    },
    {
      "cell_type": "code",
      "execution_count": null,
      "metadata": {
        "id": "3h-7M0F3myv4"
      },
      "outputs": [],
      "source": [
        "class Hamiltonian:\n",
        "    \"Energy preserved neural network\"\n",
        "    def __init__(self, solver, input_dim, output_dim, hidden_layer, each_neuron, activation_func, epoch,\n",
        "                     batch_size, learning_rate, h_for_t_created):\n",
        "        \n",
        "        self.T, self.V, self.z, self.t, self.t_interval, self.initial_point, self.h = solver\n",
        "\n",
        "        # Neural Network Model with MSE Loss\n",
        "        self.model = self.NN(inputs =input_dim, output=output_dim, hidden_layer=hidden_layer, neuron=each_neuron,\n",
        "                                     activation=activation_func)\n",
        "        self.model_train = self.train(model=self.model, inputs=self.t, target=self.z, learning_rate=learning_rate,\n",
        "                                    batch_size=batch_size, epochs=epoch)\n",
        "        \n",
        "        #Neural Network Model with Energy Preserved Loss\n",
        "        \n",
        "        self.energy_model = self.NN(inputs= input_dim,output=output_dim, hidden_layer=hidden_layer, neuron=each_neuron,\n",
        "                                        activation=activation_func)\n",
        "\n",
        "        # Parametreleri atama ve veri arttırma\n",
        "        self.energy_model.set_weights(self.model_train.get_weights())\n",
        "        t_created = np.sort(np.random.uniform(float(self.t_interval[0]), float(self.t_interval[1]), h_for_t_created))\n",
        "        target_created = self.model_train(t_created)\n",
        "        \n",
        "        self.energy_model_train = self.train(model=self.energy_model, inputs=t_created, target=target_created,\n",
        "                                             learning_rate=learning_rate, loss=self.custom_loss, batch_size=batch_size,\n",
        "                                             epochs=epoch)\n",
        "    \n",
        "    # Hamiltonian function\n",
        "\n",
        "    def H(self, T, V, q, p):\n",
        "        return T(p) + V(q)\n",
        "\n",
        "    # Neural network with MSE loss\n",
        "    def NN(self, inputs, output, hidden_layer, neuron, activation=\"relu\"):\n",
        "        #np.random.seed(1)\n",
        "        #tf.random.set_seed(1)\n",
        "        \n",
        "        inp = Input(shape=(inputs,), name= \"Input_Layer\")\n",
        "        for i in range(0, hidden_layer):\n",
        "            if i == 0:\n",
        "                x = Dense(neuron, activation=activation, name=\"Hidden_Layer_{}\".format(i+1))(inp)\n",
        "            else:\n",
        "                x = Dense(neuron, activation=activation, name=\"Hidden_Layer_{}\".format(i+1))(x)\n",
        "        x = Dense(output, name=\"Output_Layer\")(x)\n",
        "\n",
        "        out = tf.constant([[self.initial_point[0],self.initial_point[1]]],\n",
        "                              dtype=tf.float32) + (1-tf.math.exp(-inp**2)) * x\n",
        "\n",
        "        return Model(inputs=inp, outputs=out)\n",
        "\n",
        "    # Neural Network Model Compile and Fit\n",
        "    def train(self, model, inputs, target, learning_rate=0.0003, loss=\"mse\", batch_size=32, epochs=1000):\n",
        "        \n",
        "        opt = tf.keras.optimizers.Adam(learning_rate=learning_rate)\n",
        "        model.compile(optimizer=opt, loss=loss)\n",
        "        model.fit(x=inputs, y=target, epochs=epochs, batch_size=batch_size, shuffle=True, verbose=True)\n",
        "        \n",
        "        return model\n",
        "\n",
        "    def custom_loss(self, y_true, y_pred):\n",
        "        return (1-0.0006) * tf.keras.losses.MSE(self.H(self.T, self.V, self.initial_point[0],self.initial_point[1]), \n",
        "                                   self.H(self.T, self.V, y_pred[None,:,0], y_pred[None, :,1])) +  0.0006 * tf.keras.losses.MSE(y_true,y_pred)"
      ]
    }
  ]
}