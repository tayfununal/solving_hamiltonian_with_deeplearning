{
  "nbformat": 4,
  "nbformat_minor": 0,
  "metadata": {
    "colab": {
      "private_outputs": true,
      "provenance": [],
      "authorship_tag": "ABX9TyPDEVIs9tdKG7aLQy6vL5Na",
      "include_colab_link": true
    },
    "kernelspec": {
      "name": "python3",
      "display_name": "Python 3"
    },
    "language_info": {
      "name": "python"
    }
  },
  "cells": [
    {
      "cell_type": "markdown",
      "metadata": {
        "id": "view-in-github",
        "colab_type": "text"
      },
      "source": [
        "<a href=\"https://colab.research.google.com/github/tayfununal/solving_hamiltonian_with_deeplearning/blob/main/stage.ipynb\" target=\"_parent\"><img src=\"https://colab.research.google.com/assets/colab-badge.svg\" alt=\"Open In Colab\"/></a>"
      ]
    },
    {
      "cell_type": "code",
      "execution_count": null,
      "metadata": {
        "id": "S6ncY8WZlLib"
      },
      "outputs": [],
      "source": [
        "import random\n",
        "import numpy as np\n",
        "import seaborn as sns\n",
        "import matplotlib.pyplot as plt\n",
        "\n",
        "import tensorflow as tf\n",
        "from tensorflow.keras import Input, Model\n",
        "from tensorflow.keras.layers import Dense\n",
        "\n",
        "from scipy import integrate\n",
        "\n",
        "plt.style.use('seaborn-poster')\n",
        "sns.set_style({'font.family':'serif', 'font.serif':'Times New Roman'})"
      ]
    },
    {
      "cell_type": "code",
      "source": [
        "%run hamiltonian/symplectic_euler.ipynb\n",
        "%run hamiltonian/verlet.ipynb\n",
        "%run hamiltonian/hamiltonian.ipynb\n",
        "\n",
        "%run hamiltonian/non-linear_oscillator_odeint.ipynb\n",
        "%run hamiltonian/Lotka-Volterra_odeint.ipynb"
      ],
      "metadata": {
        "id": "ASkSgVK6mAqK"
      },
      "execution_count": null,
      "outputs": []
    },
    {
      "cell_type": "code",
      "source": [
        "tf.random.set_seed(12345)\n",
        "np.random.seed(12345)\n",
        "random.seed(12345)"
      ],
      "metadata": {
        "id": "yX5dlUxsmClJ"
      },
      "execution_count": null,
      "outputs": []
    },
    {
      "cell_type": "code",
      "source": [
        "# --------------------------------------------------Harmonic Oscillator Example----------------------------------------------------\n",
        "def ho_T(p):\n",
        "    return (p**2)/2\n",
        "\n",
        "def ho_V(q):\n",
        "    return (q**2)/2\n",
        "\n",
        "ho_model = Hamiltonian(solver=verlet(ho_T, ho_V, initial_point=[0.,1.], t_interval=[0, 2*np.pi], h=5), input_dim=1, output_dim=2,\n",
        "            hidden_layer=20, each_neuron=64, activation_func=tf.math.sin, epoch=2000 ,batch_size=100000000, learning_rate=0.0001, h_for_t_created=1000)"
      ],
      "metadata": {
        "id": "5SrxDjfbmEgo"
      },
      "execution_count": null,
      "outputs": []
    },
    {
      "cell_type": "code",
      "source": [
        "plt.figure(figsize = (5.5, 4))\n",
        "plt.xlabel('q', fontsize=17)\n",
        "plt.ylabel('p', fontsize=17)\n",
        "\n",
        "ho_test_t = np.sort(np.random.uniform(0,2*np.pi,1000))\n",
        "ho_prediction_energy = ho_model.energy_model_train(ho_test_t)\n",
        "ho_prediction_mse = ho_model.model_train(ho_test_t)\n",
        "\n",
        "# grand-truth\n",
        "plt.scatter(tf.math.sin(np.linspace(0.,2*np.pi,10)), tf.math.cos(np.linspace(0.,2*np.pi,10)), c=\"green\", alpha=0.6, label='grand-truth')\n",
        "# symplectic euler\n",
        "plt.plot(ho_model.z[:,0], ho_model.z[:,1], c=\"blue\", alpha=0.6, label='Verlet')\n",
        "# NN with mse\n",
        "plt.plot(ho_prediction_mse[:,0], ho_prediction_mse[:,1], c=\"orange\", alpha=0.6, label='Model with MSE loss')\n",
        "# NN with energy loss\n",
        "plt.plot(ho_prediction_energy[:,0], ho_prediction_energy[:,1], c=\"red\", alpha=0.6, label='Model with energy\\nconserved loss')\n",
        "plt.legend(loc='upper right', bbox_to_anchor=(1.8, 1.036))"
      ],
      "metadata": {
        "id": "gRHULJ93mHYI"
      },
      "execution_count": null,
      "outputs": []
    },
    {
      "cell_type": "code",
      "source": [
        "plt.figure(figsize = (4, 4))\n",
        "plt.xlabel('t', fontsize=17)\n",
        "plt.ylabel('Energy', fontsize=17)\n",
        "\n",
        "ho_energy = [ho_model.H(ho_T, ho_V, 1.0, 0.0) for i in np.linspace(0.,2*np.pi,10)]\n",
        "ho_energy_new = ho_model.H(ho_T, ho_V, ho_prediction_energy[:,0], ho_prediction_energy[:,1])\n",
        "ho_symplectic_new = ho_model.H(ho_T, ho_V, ho_model.z[:,0], ho_model.z[:,1])\n",
        "\n",
        "plt.plot(np.linspace(0.,2*np.pi,10), ho_energy,'o', c='green', alpha=0.6, label='expected energy')\n",
        "plt.plot(ho_model.t, ho_symplectic_new, alpha=0.6, c=\"blue\", label='Verlet energy')\n",
        "plt.plot(ho_test_t, ho_energy_new, alpha=0.6, c=\"red\", label='Model energy')\n",
        "plt.legend(loc='upper right', bbox_to_anchor=(1.97, 1.036))"
      ],
      "metadata": {
        "id": "VstEQFgbmHan"
      },
      "execution_count": null,
      "outputs": []
    },
    {
      "cell_type": "code",
      "source": [
        "tf.random.set_seed(12345)\n",
        "np.random.seed(12345)\n",
        "random.seed(12345)"
      ],
      "metadata": {
        "id": "cc15sbSQmHdL"
      },
      "execution_count": null,
      "outputs": []
    },
    {
      "cell_type": "code",
      "source": [
        "# --------------------------------------------------Non-Linear Oscillator Example----------------------------------------------------\n",
        "\n",
        "def non_os_T(p):\n",
        "  return (p**2)/2\n",
        "\n",
        "def non_os_V(q):\n",
        "  return ((q**2)/2) + ((q**4)/4)\n",
        "\n",
        "non_os_model = Hamiltonian(solver=verlet(non_os_T, non_os_V, initial_point=[1.3, 1.0], t_interval=[0., 4*np.math.pi], h=20), input_dim=1, output_dim=2,\n",
        "              hidden_layer=20, each_neuron=64, activation_func=tf.math.sin, epoch=2000, \n",
        "              batch_size=1000000000000, learning_rate=0.0001, h_for_t_created=1000)"
      ],
      "metadata": {
        "id": "8MlZJoKfmHft"
      },
      "execution_count": null,
      "outputs": []
    },
    {
      "cell_type": "code",
      "source": [
        "plt.figure(figsize = (4, 4))\n",
        "plt.xlabel('q', fontsize=17)\n",
        "plt.ylabel('p', fontsize=17)\n",
        "\n",
        "non_os_test_t = np.sort(np.random.uniform(0., 4*np.math.pi, 1000))\n",
        "non_os_prediction_energy = non_os_model.energy_model_train(non_os_test_t)\n",
        "non_os_prediction_mse = non_os_model.model_train(non_os_test_t)\n",
        "\n",
        "# grand-truth\n",
        "non_os_odeint_result = non_os_odeint(np.array([1.3,1.0]), t=np.linspace(0., 4*np.pi, 1500))\n",
        "plt.plot(non_os_odeint_result[:,0], non_os_odeint_result[:,1], 'o',c=\"green\", alpha=0.6, label= 'grand-truth')\n",
        "\n",
        "# symplectic euler\n",
        "plt.plot(non_os_model.z[:,0], non_os_model.z[:,1], c =\"blue\", alpha=0.6, label='Verlet')\n",
        "# NN with mse\n",
        "plt.plot(non_os_prediction_mse[:,0], non_os_prediction_mse[:,1], c =\"orange\", alpha=0.6, label='Model with MSE loss')\n",
        "# NN with energy loss\n",
        "plt.plot(non_os_prediction_energy[:,0], non_os_prediction_energy[:,1], c=\"red\", alpha=0.6, label='Model with energy\\nconserved loss')\n",
        "plt.legend(loc='upper right', bbox_to_anchor=(2.05,1.036))"
      ],
      "metadata": {
        "id": "NfnzQ3iYmHiP"
      },
      "execution_count": null,
      "outputs": []
    },
    {
      "cell_type": "code",
      "source": [
        "plt.figure(figsize = (4, 4))\n",
        "plt.xlabel('t', fontsize=17)\n",
        "plt.ylabel('Energy', fontsize=17)\n",
        "\n",
        "non_energy = [non_os_model.H(non_os_T, non_os_V, 1.3, 1.0) for i in np.linspace(0., 4 * np.pi, 20)]\n",
        "non_energy_new = non_os_model.H(non_os_T, non_os_V, non_os_prediction_energy[:,0], non_os_prediction_energy[:,1])\n",
        "non_symplectic_new = non_os_model.H(non_os_T, non_os_V, non_os_model.z[:,0], non_os_model.z[:,1])\n",
        "\n",
        "plt.plot(np.linspace(0., 4 * np.pi, 20), non_energy, 'o', c='green', alpha=0.6, label='expected energy')\n",
        "plt.plot(non_os_model.t, non_symplectic_new, alpha=0.6, c=\"blue\",label='Verlet energy')\n",
        "plt.plot(non_os_test_t, non_energy_new, alpha=0.6, c=\"red\", label='Model energy')\n",
        "plt.legend(loc='upper right', bbox_to_anchor=(1.93, 1.036))"
      ],
      "metadata": {
        "id": "ETdQQAMymHkr"
      },
      "execution_count": null,
      "outputs": []
    },
    {
      "cell_type": "code",
      "source": [
        "tf.random.set_seed(12345)\n",
        "np.random.seed(12345)\n",
        "random.seed(12345)"
      ],
      "metadata": {
        "id": "m2aUNijnmHnD"
      },
      "execution_count": null,
      "outputs": []
    },
    {
      "cell_type": "code",
      "source": [
        "# --------------------------------------------------Lotka-Volterra Example----------------------------------------------------\n",
        "\n",
        "# α = 2/3, β = 4/3, γ = 1 = δ. Assume x, y quantify thousands each. Circles represent prey and predator initial conditions from x = y = 0.9 to 1.8, in steps of 0.1. The fixed point is at (1, 1/2).\n",
        "# q = ln(y), p = ln(x) \n",
        "\n",
        "def lv_T(p):\n",
        "  return tf.math.exp(p) - p\n",
        "\n",
        "def lv_V(q):\n",
        "  return (4/3) * tf.math.exp(q) - (2/3) * q\n",
        "\n",
        "lv_model = Hamiltonian(solver=verlet(lv_T, lv_V, initial_point=[-0.105, -0.105], t_interval=[0, 50], h=30), input_dim=1, output_dim=2,\n",
        "            hidden_layer=20, each_neuron=64, activation_func=tf.math.sin, epoch=2000 ,batch_size=100000000, learning_rate=0.0001, h_for_t_created=1000)"
      ],
      "metadata": {
        "id": "ywBq5NLumHpk"
      },
      "execution_count": null,
      "outputs": []
    },
    {
      "cell_type": "code",
      "source": [
        "plt.figure(figsize = (4, 4))\n",
        "plt.xlabel('x', fontsize=17)\n",
        "plt.ylabel('y', fontsize=17)\n",
        "#plt.title(\"Phase Diagram\", fontsize=17)\n",
        "\n",
        "lv_test_t = np.sort(np.random.uniform(0., 50, 1000))\n",
        "lv_prediction_energy = lv_model.energy_model_train(lv_test_t)\n",
        "lv_prediction_mse = lv_model.model_train(lv_test_t)\n",
        "\n",
        "# q = ln(y), p = ln(x) \n",
        "\n",
        "# grand-truth\n",
        "x, y = lotka_volterra(alpha=2/3, beta=4/3, delta=1., gamma=1., x0=0.9, y0=0.9, t_interval=[0,50], h=500)\n",
        "plt.plot(x, y, 'o', c =\"green\", alpha=0.6, label='grand-truth')\n",
        "# symplectic euler\n",
        "plt.plot(np.exp(lv_model.z[:,1]), np.exp(lv_model.z[:,0]), c =\"blue\", alpha=0.6, label='symplectic-euler')\n",
        "# NN with mse\n",
        "plt.plot(np.exp(lv_prediction_mse[:,1]), np.exp(lv_prediction_mse[:,0]), c =\"orange\", alpha=0.6, label='NN with mse')\n",
        "# NN with energy loss\n",
        "plt.plot(np.exp(lv_prediction_energy[:,1]), np.exp(lv_prediction_energy[:,0]), c=\"red\", alpha=0.6, label='NN with energy loss')\n",
        "plt.legend(loc='upper right', bbox_to_anchor=(2.04, 1.036))"
      ],
      "metadata": {
        "id": "vXJNfkeLmcFm"
      },
      "execution_count": null,
      "outputs": []
    },
    {
      "cell_type": "code",
      "source": [
        "plt.figure(figsize = (4, 4))\n",
        "plt.xlabel('t', fontsize=17)\n",
        "plt.ylabel('Energy', fontsize=17)\n",
        "\n",
        "lv_energy = [lv_model.H(lv_T, lv_V, -0.105, -0.105) for i in np.linspace(0., 50., 40)]\n",
        "lv_energy_new = lv_model.H(lv_T, lv_V, lv_prediction_energy[:,0], lv_prediction_energy[:,1])\n",
        "lv_symplectic_new = lv_model.H(lv_T, lv_V, lv_model.z[:,0], lv_model.z[:,1])\n",
        "\n",
        "plt.plot(np.linspace(0., 50.0, 40), lv_energy, 'o', c='green', alpha=0.6, label='expected energy')\n",
        "plt.plot(lv_test_t, lv_energy_new, c='red', alpha=0.6, label='calculated energy')\n",
        "plt.plot(lv_model.t, lv_symplectic_new, c='blue', alpha=0.6, label='symplectic-euler energy')\n",
        "plt.legend(loc='upper right', bbox_to_anchor=(2.19, 1.036))"
      ],
      "metadata": {
        "id": "AlpaaUh5mcIs"
      },
      "execution_count": null,
      "outputs": []
    },
    {
      "cell_type": "code",
      "source": [],
      "metadata": {
        "id": "fpJ8KdqvmcN0"
      },
      "execution_count": null,
      "outputs": []
    }
  ]
}