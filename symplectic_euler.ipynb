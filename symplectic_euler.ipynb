{
  "nbformat": 4,
  "nbformat_minor": 0,
  "metadata": {
    "colab": {
      "private_outputs": true,
      "provenance": [],
      "authorship_tag": "ABX9TyNxHFhgIjX/0yvv+2RilSuW",
      "include_colab_link": true
    },
    "kernelspec": {
      "name": "python3",
      "display_name": "Python 3"
    },
    "language_info": {
      "name": "python"
    }
  },
  "cells": [
    {
      "cell_type": "markdown",
      "metadata": {
        "id": "view-in-github",
        "colab_type": "text"
      },
      "source": [
        "<a href=\"https://colab.research.google.com/github/tayfununal/solving_hamiltonian_with_deeplearning/blob/main/symplectic_euler.ipynb\" target=\"_parent\"><img src=\"https://colab.research.google.com/assets/colab-badge.svg\" alt=\"Open In Colab\"/></a>"
      ]
    },
    {
      "cell_type": "code",
      "source": [
        "tf.random.set_seed(12345)\n",
        "np.random.seed(12345)\n",
        "random.seed(12345)"
      ],
      "metadata": {
        "id": "Orj8pSnwgQ4s"
      },
      "execution_count": null,
      "outputs": []
    },
    {
      "cell_type": "code",
      "execution_count": null,
      "metadata": {
        "id": "e8vDOKhpnrzg"
      },
      "outputs": [],
      "source": [
        "def symplectic_euler(T, V, initial_point=[0., 1.], t_interval=[0.,1.], h=20):\n",
        "\n",
        "    t = np.linspace(t_interval[0], t_interval[1], h)\n",
        "    \n",
        "    h = t[1]-t[0] \n",
        "    \n",
        "    q = np.zeros(t.shape[0])\n",
        "    p = np.zeros(t.shape[0])\n",
        "    \n",
        "    q[0] = initial_point[0]\n",
        "    p[0] = initial_point[1]\n",
        "    \n",
        "    # Derivative of Potential Energy\n",
        "    def dV(q_0=tf.constant(1.0)):\n",
        "        q_0 = tf.constant(q_0)\n",
        "        with tf.GradientTape() as g:\n",
        "            g.watch(q_0)\n",
        "            y = V(q_0)\n",
        "        return g.gradient(y, q_0)\n",
        "\n",
        "    # Derivative of Kinetic Energy\n",
        "    def dT(p_0=tf.constant(1.0)):\n",
        "        p_0 = tf.constant(p_0)\n",
        "        with tf.GradientTape() as g:\n",
        "            g.watch(p_0)\n",
        "            y = T(p_0)\n",
        "        return g.gradient(y, p_0)\n",
        "\n",
        "    for i in range(0, t.shape[0]-1):\n",
        "\n",
        "        q[i + 1] = q[i] + h * dT(p[i])\n",
        "        p[i + 1] = p[i] - h * dV(q[i+1])\n",
        "\n",
        "    z = np.concatenate((q.reshape(-1,1), p.reshape(-1,1)) , axis=1)\n",
        "    return T, V, z, t, t_interval, initial_point, h"
      ]
    }
  ]
}